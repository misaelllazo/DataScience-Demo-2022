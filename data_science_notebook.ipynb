{
  "nbformat": 4,
  "nbformat_minor": 0,
  "metadata": {
    "colab": {
      "provenance": [],
      "toc_visible": true,
      "authorship_tag": "ABX9TyOi4ZE1D3ezphNzeYVy+ycl",
      "include_colab_link": true
    },
    "kernelspec": {
      "name": "python3",
      "display_name": "Python 3"
    },
    "language_info": {
      "name": "python"
    }
  },
  "cells": [
    {
      "cell_type": "markdown",
      "metadata": {
        "id": "view-in-github",
        "colab_type": "text"
      },
      "source": [
        "<a href=\"https://colab.research.google.com/github/misaelllazo/DataScience-Demo-2022/blob/main/data_science_notebook.ipynb\" target=\"_parent\"><img src=\"https://colab.research.google.com/assets/colab-badge.svg\" alt=\"Open In Colab\"/></a>"
      ]
    },
    {
      "cell_type": "code",
      "execution_count": null,
      "metadata": {
        "id": "cewfWZGk8BOY"
      },
      "outputs": [],
      "source": []
    },
    {
      "cell_type": "markdown",
      "source": [
        "## Ingest"
      ],
      "metadata": {
        "id": "tv9y3xaT8hXQ"
      }
    },
    {
      "cell_type": "code",
      "source": [],
      "metadata": {
        "id": "ToYVdQZX80na"
      },
      "execution_count": null,
      "outputs": []
    },
    {
      "cell_type": "markdown",
      "source": [
        "## EDA\n"
      ],
      "metadata": {
        "id": "ODEqULLJ8ecx"
      }
    },
    {
      "cell_type": "code",
      "source": [],
      "metadata": {
        "id": "6mWlsgwU81YM"
      },
      "execution_count": null,
      "outputs": []
    },
    {
      "cell_type": "markdown",
      "source": [],
      "metadata": {
        "id": "8PtgMtY38WkE"
      }
    },
    {
      "cell_type": "markdown",
      "source": [
        "## Modeling"
      ],
      "metadata": {
        "id": "IuaVh4ki83Ag"
      }
    },
    {
      "cell_type": "markdown",
      "source": [
        "### Classification Algoritmo"
      ],
      "metadata": {
        "id": "s9J3rfHf9Nd2"
      }
    },
    {
      "cell_type": "code",
      "source": [],
      "metadata": {
        "id": "1_rSJ98E87nH"
      },
      "execution_count": null,
      "outputs": []
    },
    {
      "cell_type": "markdown",
      "source": [
        "## Conclusion"
      ],
      "metadata": {
        "id": "rCxSpj_k88Ih"
      }
    },
    {
      "cell_type": "code",
      "source": [],
      "metadata": {
        "id": "rlh7utRW8-uC"
      },
      "execution_count": null,
      "outputs": []
    }
  ]
}